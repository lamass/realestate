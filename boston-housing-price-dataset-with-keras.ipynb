{
 "cells": [
  {
   "cell_type": "markdown",
   "metadata": {
    "_uuid": "452ca30a3ce0a2dc1b59b3f84f0c7f02ccbd7319"
   },
   "source": [
    "**This is an example from Deep Learning With Python book.**"
   ]
  },
  {
   "cell_type": "code",
   "execution_count": 1,
   "metadata": {
    "_cell_guid": "b1076dfc-b9ad-4769-8c92-a6c4dae69d19",
    "_uuid": "8f2839f25d086af736a60e9eeb907d3b93b6e0e5",
    "execution": {
     "iopub.execute_input": "2023-08-09T04:13:05.385286Z",
     "iopub.status.busy": "2023-08-09T04:13:05.384659Z",
     "iopub.status.idle": "2023-08-09T04:13:05.407690Z",
     "shell.execute_reply": "2023-08-09T04:13:05.406750Z",
     "shell.execute_reply.started": "2023-08-09T04:13:05.385218Z"
    }
   },
   "outputs": [],
   "source": [
    "# This Python 3 environment comes with many helpful analytics libraries installed\n",
    "# It is defined by the kaggle/python docker image: https://github.com/kaggle/docker-python\n",
    "# For example, here's several helpful packages to load in \n",
    "\n",
    "import numpy as np # linear algebra\n",
    "import pandas as pd # data processing, CSV file I/O (e.g. pd.read_csv)\n",
    "import matplotlib.pyplot as plt"
   ]
  },
  {
   "cell_type": "markdown",
   "metadata": {
    "_uuid": "76c00e3b6e596e30ba6728c95ef323389dca5537"
   },
   "source": [
    "## Loading the dataset"
   ]
  },
  {
   "cell_type": "code",
   "execution_count": 2,
   "metadata": {
    "_cell_guid": "79c7e3d0-c299-4dcb-8224-4455121ee9b0",
    "_uuid": "d629ff2d2480ee46fbb7e2d37f6b5fab8052498a",
    "execution": {
     "iopub.execute_input": "2023-08-09T04:13:10.153918Z",
     "iopub.status.busy": "2023-08-09T04:13:10.153365Z",
     "iopub.status.idle": "2023-08-09T04:13:10.940334Z",
     "shell.execute_reply": "2023-08-09T04:13:10.939071Z",
     "shell.execute_reply.started": "2023-08-09T04:13:10.153867Z"
    }
   },
   "outputs": [
    {
     "name": "stderr",
     "output_type": "stream",
     "text": [
      "Using TensorFlow backend.\n"
     ]
    },
    {
     "name": "stdout",
     "output_type": "stream",
     "text": [
      "Downloading data from https://s3.amazonaws.com/keras-datasets/boston_housing.npz\n",
      "57344/57026 [==============================] - 0s 0us/step\n"
     ]
    }
   ],
   "source": [
    "from keras.datasets import boston_housing\n",
    "\n",
    "(train_data, train_targets), (test_data, test_targets) = boston_housing.load_data()"
   ]
  },
  {
   "cell_type": "code",
   "execution_count": 3,
   "metadata": {
    "_uuid": "46abef54b50bee09d016f30786d79dda2171ad3c",
    "execution": {
     "iopub.execute_input": "2023-08-09T04:13:47.078285Z",
     "iopub.status.busy": "2023-08-09T04:13:47.077539Z",
     "iopub.status.idle": "2023-08-09T04:13:47.086622Z",
     "shell.execute_reply": "2023-08-09T04:13:47.085235Z",
     "shell.execute_reply.started": "2023-08-09T04:13:47.078225Z"
    }
   },
   "outputs": [
    {
     "name": "stdout",
     "output_type": "stream",
     "text": [
      "Training data : (404, 13)\n",
      "Test data : (102, 13)\n",
      "Training sample : [  1.23247   0.        8.14      0.        0.538     6.142    91.7\n",
      "   3.9769    4.      307.       21.      396.9      18.72   ]\n",
      "Training target sample : 15.2\n"
     ]
    }
   ],
   "source": [
    "# take a look at the data\n",
    "\n",
    "print(f'Training data : {train_data.shape}')\n",
    "print(f'Test data : {test_data.shape}')\n",
    "print(f'Training sample : {train_data[0]}')\n",
    "print(f'Training target sample : {train_targets[0]}')"
   ]
  },
  {
   "cell_type": "markdown",
   "metadata": {
    "_uuid": "06d8318b1e09e6dffb161fab36b324a309b25b6a"
   },
   "source": [
    "## Preparing the data\n",
    "\n",
    "We are going to do a feature normalization . Feature normalizaion is when you subtract the mean of the feature from each feature and divide each result by the standard deviation.\n"
   ]
  },
  {
   "cell_type": "code",
   "execution_count": 4,
   "metadata": {
    "_uuid": "fb47c40e26f4a56384584910c748eea00cfd7159",
    "execution": {
     "iopub.execute_input": "2023-08-09T04:15:29.329017Z",
     "iopub.status.busy": "2023-08-09T04:15:29.328680Z",
     "iopub.status.idle": "2023-08-09T04:15:29.336265Z",
     "shell.execute_reply": "2023-08-09T04:15:29.334862Z",
     "shell.execute_reply.started": "2023-08-09T04:15:29.328964Z"
    }
   },
   "outputs": [],
   "source": [
    "mean = train_data.mean(axis=0)\n",
    "train_data -= mean\n",
    "std = train_data.std(axis=0)\n",
    "train_data /= std\n",
    "\n",
    "test_data -= mean\n",
    "test_data /= std\n",
    "\n",
    "# Note that the quantities used for normalizing the test data are computed using the\n",
    "# training data. You should never use in your workflow any quantity computed on the\n",
    "# test data, even for something as simple as data normalization."
   ]
  },
  {
   "cell_type": "markdown",
   "metadata": {
    "_uuid": "26834f67baa2de9d4b516b1f8eaafc5737276fce"
   },
   "source": [
    "## Building the network"
   ]
  },
  {
   "cell_type": "code",
   "execution_count": 5,
   "metadata": {
    "_uuid": "4cbaa8646f81bab4261e9c25474cef65b2fc8474",
    "execution": {
     "iopub.execute_input": "2023-08-09T04:15:45.609431Z",
     "iopub.status.busy": "2023-08-09T04:15:45.608953Z",
     "iopub.status.idle": "2023-08-09T04:15:45.618953Z",
     "shell.execute_reply": "2023-08-09T04:15:45.617567Z",
     "shell.execute_reply.started": "2023-08-09T04:15:45.609343Z"
    }
   },
   "outputs": [],
   "source": [
    "from keras import models\n",
    "from keras import layers\n",
    "\n",
    "def build_model():\n",
    "    model = models.Sequential()\n",
    "    model.add(layers.Dense(64, activation='relu', input_shape=(train_data.shape[1],)))\n",
    "    model.add(layers.Dense(64, activation='relu'))\n",
    "    model.add(layers.Dense(1))\n",
    "\n",
    "    model.compile(optimizer='rmsprop',\n",
    "              loss='mse',\n",
    "              metrics=['mae'])\n",
    "    return model"
   ]
  },
  {
   "cell_type": "markdown",
   "metadata": {
    "_uuid": "bddd23bd4517bcbedb3e264249a39cf851a9acfd"
   },
   "source": [
    "## K-fold validation"
   ]
  },
  {
   "cell_type": "code",
   "execution_count": 6,
   "metadata": {
    "_uuid": "e9ccbfd3c006f5a51da9e83809f601cf651c02dc",
    "execution": {
     "iopub.execute_input": "2023-08-09T04:16:09.688838Z",
     "iopub.status.busy": "2023-08-09T04:16:09.688415Z",
     "iopub.status.idle": "2023-08-09T04:18:42.869919Z",
     "shell.execute_reply": "2023-08-09T04:18:42.868533Z",
     "shell.execute_reply.started": "2023-08-09T04:16:09.688778Z"
    }
   },
   "outputs": [
    {
     "name": "stdout",
     "output_type": "stream",
     "text": [
      "Processing fold # 0\n",
      "Processing fold # 1\n",
      "Processing fold # 2\n",
      "Processing fold # 3\n"
     ]
    }
   ],
   "source": [
    "k = 4\n",
    "num_val_samples = len(train_data) // k\n",
    "num_epochs = 100\n",
    "all_scores = []\n",
    "\n",
    "for i in range(k):\n",
    "    print(f'Processing fold # {i}')\n",
    "    val_data = train_data[i * num_val_samples: (i+1) * num_val_samples]\n",
    "    val_targets = train_targets[i * num_val_samples: (i+1) * num_val_samples]\n",
    "    \n",
    "    partial_train_data = np.concatenate(\n",
    "                            [train_data[:i * num_val_samples],\n",
    "                            train_data[(i+1) * num_val_samples:]],\n",
    "                            axis=0)\n",
    "    partial_train_targets = np.concatenate(\n",
    "                            [train_targets[:i * num_val_samples],\n",
    "                            train_targets[(i+1)*num_val_samples:]],\n",
    "                            axis=0)\n",
    "    model = build_model()\n",
    "    model.fit(partial_train_data,\n",
    "              partial_train_targets,\n",
    "              epochs=num_epochs,\n",
    "              batch_size=1,\n",
    "              verbose=0)\n",
    "    val_mse, val_mae = model.evaluate(val_data, val_targets, verbose=0)\n",
    "    all_scores.append(val_mae)"
   ]
  },
  {
   "cell_type": "code",
   "execution_count": 7,
   "metadata": {
    "_uuid": "5a9f7c987f6f29ea22a03c3df0688d9e38ea8f05",
    "execution": {
     "iopub.execute_input": "2023-08-09T04:18:54.195453Z",
     "iopub.status.busy": "2023-08-09T04:18:54.195034Z",
     "iopub.status.idle": "2023-08-09T04:18:54.202227Z",
     "shell.execute_reply": "2023-08-09T04:18:54.200413Z",
     "shell.execute_reply.started": "2023-08-09T04:18:54.195383Z"
    }
   },
   "outputs": [
    {
     "name": "stdout",
     "output_type": "stream",
     "text": [
      "all_scores : [2.1299970468672194, 2.2819440813347844, 2.9202968838191268, 2.3692543305973017]\n",
      "mean all scores : 2.4253730856546083\n"
     ]
    }
   ],
   "source": [
    "print(f'all_scores : {all_scores}')\n",
    "print(f'mean all scores : {np.mean(all_scores)}')"
   ]
  },
  {
   "cell_type": "code",
   "execution_count": 8,
   "metadata": {
    "_uuid": "328b6245ae5d964df08f14de6236bc68147c5611",
    "execution": {
     "iopub.execute_input": "2023-08-09T04:20:57.364596Z",
     "iopub.status.busy": "2023-08-09T04:20:57.364209Z",
     "iopub.status.idle": "2023-08-09T04:21:01.259441Z",
     "shell.execute_reply": "2023-08-09T04:21:01.258231Z",
     "shell.execute_reply.started": "2023-08-09T04:20:57.364533Z"
    }
   },
   "outputs": [
    {
     "name": "stdout",
     "output_type": "stream",
     "text": [
      "Epoch 1/80\n",
      "404/404 [==============================] - 0s 644us/step - loss: 469.1542 - mean_absolute_error: 19.7320\n",
      "Epoch 2/80\n",
      "404/404 [==============================] - 0s 72us/step - loss: 277.9006 - mean_absolute_error: 14.5058\n",
      "Epoch 3/80\n",
      "404/404 [==============================] - 0s 62us/step - loss: 125.1571 - mean_absolute_error: 8.8875\n",
      "Epoch 4/80\n",
      "404/404 [==============================] - 0s 66us/step - loss: 62.0649 - mean_absolute_error: 6.0280\n",
      "Epoch 5/80\n",
      "404/404 [==============================] - 0s 65us/step - loss: 37.5030 - mean_absolute_error: 4.6045\n",
      "Epoch 6/80\n",
      "404/404 [==============================] - 0s 65us/step - loss: 26.3543 - mean_absolute_error: 3.7328\n",
      "Epoch 7/80\n",
      "404/404 [==============================] - 0s 66us/step - loss: 20.7812 - mean_absolute_error: 3.1800\n",
      "Epoch 8/80\n",
      "404/404 [==============================] - 0s 67us/step - loss: 18.1548 - mean_absolute_error: 2.9676\n",
      "Epoch 9/80\n",
      "404/404 [==============================] - 0s 64us/step - loss: 16.7979 - mean_absolute_error: 2.8259\n",
      "Epoch 10/80\n",
      "404/404 [==============================] - 0s 60us/step - loss: 15.4264 - mean_absolute_error: 2.7240\n",
      "Epoch 11/80\n",
      "404/404 [==============================] - 0s 71us/step - loss: 14.3216 - mean_absolute_error: 2.6004\n",
      "Epoch 12/80\n",
      "404/404 [==============================] - 0s 67us/step - loss: 13.5324 - mean_absolute_error: 2.5006\n",
      "Epoch 13/80\n",
      "404/404 [==============================] - 0s 70us/step - loss: 12.5435 - mean_absolute_error: 2.4908\n",
      "Epoch 14/80\n",
      "404/404 [==============================] - 0s 63us/step - loss: 12.3896 - mean_absolute_error: 2.4659\n",
      "Epoch 15/80\n",
      "404/404 [==============================] - 0s 63us/step - loss: 11.7877 - mean_absolute_error: 2.4159\n",
      "Epoch 16/80\n",
      "404/404 [==============================] - 0s 71us/step - loss: 11.3423 - mean_absolute_error: 2.3496\n",
      "Epoch 17/80\n",
      "404/404 [==============================] - 0s 72us/step - loss: 11.1534 - mean_absolute_error: 2.3368\n",
      "Epoch 18/80\n",
      "404/404 [==============================] - 0s 71us/step - loss: 10.5846 - mean_absolute_error: 2.3008\n",
      "Epoch 19/80\n",
      "404/404 [==============================] - 0s 73us/step - loss: 10.3828 - mean_absolute_error: 2.2977\n",
      "Epoch 20/80\n",
      "404/404 [==============================] - 0s 67us/step - loss: 10.5100 - mean_absolute_error: 2.2510\n",
      "Epoch 21/80\n",
      "404/404 [==============================] - 0s 69us/step - loss: 10.2427 - mean_absolute_error: 2.2503\n",
      "Epoch 22/80\n",
      "404/404 [==============================] - 0s 68us/step - loss: 9.8693 - mean_absolute_error: 2.2132\n",
      "Epoch 23/80\n",
      "404/404 [==============================] - 0s 67us/step - loss: 9.7985 - mean_absolute_error: 2.1958\n",
      "Epoch 24/80\n",
      "404/404 [==============================] - 0s 60us/step - loss: 9.6060 - mean_absolute_error: 2.2034\n",
      "Epoch 25/80\n",
      "404/404 [==============================] - 0s 66us/step - loss: 9.5719 - mean_absolute_error: 2.1487\n",
      "Epoch 26/80\n",
      "404/404 [==============================] - 0s 68us/step - loss: 9.4369 - mean_absolute_error: 2.1441\n",
      "Epoch 27/80\n",
      "404/404 [==============================] - 0s 75us/step - loss: 9.2270 - mean_absolute_error: 2.1255\n",
      "Epoch 28/80\n",
      "404/404 [==============================] - 0s 73us/step - loss: 9.2487 - mean_absolute_error: 2.1188\n",
      "Epoch 29/80\n",
      "404/404 [==============================] - 0s 64us/step - loss: 9.1448 - mean_absolute_error: 2.1106\n",
      "Epoch 30/80\n",
      "404/404 [==============================] - 0s 70us/step - loss: 9.0658 - mean_absolute_error: 2.1005\n",
      "Epoch 31/80\n",
      "404/404 [==============================] - 0s 83us/step - loss: 8.7144 - mean_absolute_error: 2.0896\n",
      "Epoch 32/80\n",
      "404/404 [==============================] - 0s 73us/step - loss: 8.9767 - mean_absolute_error: 2.0843\n",
      "Epoch 33/80\n",
      "404/404 [==============================] - 0s 76us/step - loss: 8.7226 - mean_absolute_error: 2.0750\n",
      "Epoch 34/80\n",
      "404/404 [==============================] - 0s 71us/step - loss: 8.6208 - mean_absolute_error: 2.0565\n",
      "Epoch 35/80\n",
      "404/404 [==============================] - 0s 83us/step - loss: 8.5868 - mean_absolute_error: 2.0577\n",
      "Epoch 36/80\n",
      "404/404 [==============================] - 0s 72us/step - loss: 8.2385 - mean_absolute_error: 2.0157\n",
      "Epoch 37/80\n",
      "404/404 [==============================] - 0s 72us/step - loss: 8.4561 - mean_absolute_error: 2.0578\n",
      "Epoch 38/80\n",
      "404/404 [==============================] - 0s 69us/step - loss: 8.3086 - mean_absolute_error: 2.0069\n",
      "Epoch 39/80\n",
      "404/404 [==============================] - 0s 73us/step - loss: 8.2796 - mean_absolute_error: 2.0305\n",
      "Epoch 40/80\n",
      "404/404 [==============================] - 0s 71us/step - loss: 8.1399 - mean_absolute_error: 2.0103\n",
      "Epoch 41/80\n",
      "404/404 [==============================] - 0s 82us/step - loss: 8.0813 - mean_absolute_error: 2.0056\n",
      "Epoch 42/80\n",
      "404/404 [==============================] - 0s 69us/step - loss: 8.0131 - mean_absolute_error: 1.9928\n",
      "Epoch 43/80\n",
      "404/404 [==============================] - 0s 73us/step - loss: 7.9809 - mean_absolute_error: 1.9765\n",
      "Epoch 44/80\n",
      "404/404 [==============================] - 0s 68us/step - loss: 7.9879 - mean_absolute_error: 1.9688\n",
      "Epoch 45/80\n",
      "404/404 [==============================] - 0s 67us/step - loss: 7.8205 - mean_absolute_error: 1.9574\n",
      "Epoch 46/80\n",
      "404/404 [==============================] - 0s 71us/step - loss: 7.7544 - mean_absolute_error: 1.9506\n",
      "Epoch 47/80\n",
      "404/404 [==============================] - 0s 67us/step - loss: 7.6131 - mean_absolute_error: 1.9603\n",
      "Epoch 48/80\n",
      "404/404 [==============================] - 0s 70us/step - loss: 7.6105 - mean_absolute_error: 1.9339\n",
      "Epoch 49/80\n",
      "404/404 [==============================] - 0s 69us/step - loss: 7.4830 - mean_absolute_error: 1.9581\n",
      "Epoch 50/80\n",
      "404/404 [==============================] - 0s 70us/step - loss: 7.5529 - mean_absolute_error: 1.9381\n",
      "Epoch 51/80\n",
      "404/404 [==============================] - 0s 88us/step - loss: 7.5550 - mean_absolute_error: 1.9157\n",
      "Epoch 52/80\n",
      "404/404 [==============================] - 0s 77us/step - loss: 7.5519 - mean_absolute_error: 1.9316\n",
      "Epoch 53/80\n",
      "404/404 [==============================] - 0s 81us/step - loss: 7.3621 - mean_absolute_error: 1.8944\n",
      "Epoch 54/80\n",
      "404/404 [==============================] - 0s 69us/step - loss: 7.5509 - mean_absolute_error: 1.9188\n",
      "Epoch 55/80\n",
      "404/404 [==============================] - 0s 78us/step - loss: 7.3533 - mean_absolute_error: 1.9076\n",
      "Epoch 56/80\n",
      "404/404 [==============================] - 0s 72us/step - loss: 7.1725 - mean_absolute_error: 1.8526\n",
      "Epoch 57/80\n",
      "404/404 [==============================] - 0s 71us/step - loss: 7.1873 - mean_absolute_error: 1.8856\n",
      "Epoch 58/80\n",
      "404/404 [==============================] - 0s 74us/step - loss: 7.0524 - mean_absolute_error: 1.8486\n",
      "Epoch 59/80\n",
      "404/404 [==============================] - 0s 81us/step - loss: 7.0760 - mean_absolute_error: 1.9195\n",
      "Epoch 60/80\n",
      "404/404 [==============================] - 0s 67us/step - loss: 7.0240 - mean_absolute_error: 1.8581\n",
      "Epoch 61/80\n",
      "404/404 [==============================] - 0s 70us/step - loss: 6.8290 - mean_absolute_error: 1.8379\n",
      "Epoch 62/80\n",
      "404/404 [==============================] - 0s 66us/step - loss: 7.0778 - mean_absolute_error: 1.8682\n",
      "Epoch 63/80\n",
      "404/404 [==============================] - 0s 74us/step - loss: 6.8812 - mean_absolute_error: 1.8239\n",
      "Epoch 64/80\n",
      "404/404 [==============================] - 0s 71us/step - loss: 6.9028 - mean_absolute_error: 1.8494\n",
      "Epoch 65/80\n",
      "404/404 [==============================] - 0s 71us/step - loss: 6.7785 - mean_absolute_error: 1.8356\n",
      "Epoch 66/80\n",
      "404/404 [==============================] - 0s 79us/step - loss: 6.6226 - mean_absolute_error: 1.7966\n",
      "Epoch 67/80\n",
      "404/404 [==============================] - 0s 80us/step - loss: 6.6449 - mean_absolute_error: 1.8036\n",
      "Epoch 68/80\n",
      "404/404 [==============================] - 0s 71us/step - loss: 6.4890 - mean_absolute_error: 1.7793\n",
      "Epoch 69/80\n",
      "404/404 [==============================] - 0s 76us/step - loss: 6.8280 - mean_absolute_error: 1.8077\n",
      "Epoch 70/80\n",
      "404/404 [==============================] - 0s 80us/step - loss: 6.3743 - mean_absolute_error: 1.7640\n",
      "Epoch 71/80\n",
      "404/404 [==============================] - 0s 67us/step - loss: 6.5695 - mean_absolute_error: 1.8077\n",
      "Epoch 72/80\n",
      "404/404 [==============================] - 0s 69us/step - loss: 6.3920 - mean_absolute_error: 1.7767\n",
      "Epoch 73/80\n",
      "404/404 [==============================] - 0s 65us/step - loss: 6.2025 - mean_absolute_error: 1.7559\n",
      "Epoch 74/80\n",
      "404/404 [==============================] - 0s 65us/step - loss: 6.4137 - mean_absolute_error: 1.7752\n",
      "Epoch 75/80\n",
      "404/404 [==============================] - 0s 64us/step - loss: 6.0119 - mean_absolute_error: 1.7133\n",
      "Epoch 76/80\n",
      "404/404 [==============================] - 0s 64us/step - loss: 6.2396 - mean_absolute_error: 1.7590\n",
      "Epoch 77/80\n",
      "404/404 [==============================] - 0s 67us/step - loss: 6.2432 - mean_absolute_error: 1.7405\n",
      "Epoch 78/80\n",
      "404/404 [==============================] - 0s 65us/step - loss: 6.0856 - mean_absolute_error: 1.7390\n",
      "Epoch 79/80\n",
      "404/404 [==============================] - 0s 69us/step - loss: 6.1624 - mean_absolute_error: 1.7697\n",
      "Epoch 80/80\n",
      "404/404 [==============================] - 0s 65us/step - loss: 6.0761 - mean_absolute_error: 1.7067\n",
      "102/102 [==============================] - 0s 624us/step\n"
     ]
    }
   ],
   "source": [
    "model = build_model()\n",
    "model.fit(train_data, train_targets, epochs= 80, batch_size= 16, verbose= 1)\n",
    "test_mse_score, test_mae_score = model.evaluate(test_data, test_targets)"
   ]
  },
  {
   "cell_type": "code",
   "execution_count": 9,
   "metadata": {
    "_uuid": "174d90326f6ed72d9127f6cf8d0619a4820d56e5",
    "execution": {
     "iopub.execute_input": "2023-08-09T04:21:07.808418Z",
     "iopub.status.busy": "2023-08-09T04:21:07.807569Z",
     "iopub.status.idle": "2023-08-09T04:21:07.815068Z",
     "shell.execute_reply": "2023-08-09T04:21:07.814182Z",
     "shell.execute_reply.started": "2023-08-09T04:21:07.807920Z"
    }
   },
   "outputs": [
    {
     "data": {
      "text/plain": [
       "3.019854003307866"
      ]
     },
     "execution_count": 9,
     "metadata": {},
     "output_type": "execute_result"
    }
   ],
   "source": [
    "test_mae_score"
   ]
  }
 ],
 "metadata": {
  "kernelspec": {
   "display_name": "Python 3",
   "language": "python",
   "name": "python3"
  },
  "language_info": {
   "codemirror_mode": {
    "name": "ipython",
    "version": 3
   },
   "file_extension": ".py",
   "mimetype": "text/x-python",
   "name": "python",
   "nbconvert_exporter": "python",
   "pygments_lexer": "ipython3",
   "version": "3.6.6"
  }
 },
 "nbformat": 4,
 "nbformat_minor": 4
}
